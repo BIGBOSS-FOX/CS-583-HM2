{
 "cells": [
  {
   "cell_type": "markdown",
   "metadata": {},
   "source": [
    "# HM2: Numerical Optimization for Logistic Regression.\n",
    "\n",
    "### Name: Daoyuan Chen\n"
   ]
  },
  {
   "cell_type": "markdown",
   "metadata": {},
   "source": [
    "## 0. You will do the following:\n",
    "\n",
    "1. Read the lecture note: [click here](https://github.com/wangshusen/DeepLearning/blob/master/LectureNotes/Logistic/paper/logistic.pdf)\n",
    "\n",
    "2. Read, complete, and run my code.\n",
    "\n",
    "3. **Implement mini-batch SGD** and evaluate the performance.\n",
    "\n",
    "4. Convert the .IPYNB file to .HTML file.\n",
    "\n",
    "    * The HTML file must contain **the code** and **the output after execution**.\n",
    "    \n",
    "    * Missing **the output after execution** will not be graded.\n",
    "    \n",
    "5. Upload this .HTML file to your Google Drive, Dropbox, or your Github repo.  (If you submit the file to Google Drive or Dropbox, you must make the file \"open-access\". The delay caused by \"deny of access\" may result in late penalty.)\n",
    "\n",
    "6. Submit the link to this .HTML file to Canvas.\n",
    "\n",
    "    * Example: https://github.com/wangshusen/CS583-2020S/blob/master/homework/HM2/HM2.html\n",
    "\n",
    "\n",
    "## Grading criteria:\n",
    "\n",
    "1. When computing the ```gradient``` and ```objective function value``` using a batch of samples, use **matrix-vector multiplication** rather than a FOR LOOP of **vector-vector multiplications**.\n",
    "\n",
    "2. Plot ```objective function value``` against ```epochs```. In the plot, compare GD, SGD, and MB-SGD (with $b=8$ and $b=64$). The plot must look reasonable."
   ]
  },
  {
   "cell_type": "code",
   "execution_count": null,
   "metadata": {},
   "outputs": [],
   "source": []
  },
  {
   "cell_type": "markdown",
   "metadata": {},
   "source": [
    "# 1. Data processing\n",
    "\n",
    "- Download the Diabete dataset from https://www.csie.ntu.edu.tw/~cjlin/libsvmtools/datasets/binary/diabetes\n",
    "- Load the data using sklearn.\n",
    "- Preprocess the data."
   ]
  },
  {
   "cell_type": "markdown",
   "metadata": {},
   "source": [
    "## 1.1. Load the data"
   ]
  },
  {
   "cell_type": "code",
   "execution_count": 1,
   "metadata": {},
   "outputs": [
    {
     "name": "stdout",
     "output_type": "stream",
     "text": [
      "Shape of x: (768, 8)\n",
      "Shape of y: (768,)\n"
     ]
    }
   ],
   "source": [
    "from sklearn import datasets\n",
    "import numpy\n",
    "\n",
    "x_sparse, y = datasets.load_svmlight_file('diabetes')\n",
    "x = x_sparse.todense()\n",
    "\n",
    "print('Shape of x: ' + str(x.shape))\n",
    "print('Shape of y: ' + str(y.shape))"
   ]
  },
  {
   "cell_type": "markdown",
   "metadata": {},
   "source": [
    "## 1.2. Partition to training and test sets"
   ]
  },
  {
   "cell_type": "code",
   "execution_count": 2,
   "metadata": {},
   "outputs": [
    {
     "name": "stdout",
     "output_type": "stream",
     "text": [
      "Shape of x_train: (640, 8)\n",
      "Shape of x_test: (128, 8)\n",
      "Shape of y_train: (640, 1)\n",
      "Shape of y_test: (128, 1)\n"
     ]
    }
   ],
   "source": [
    "# partition the data to training and test sets\n",
    "n = x.shape[0]\n",
    "n_train = 640\n",
    "n_test = n - n_train\n",
    "\n",
    "rand_indices = numpy.random.permutation(n)\n",
    "train_indices = rand_indices[0:n_train]\n",
    "test_indices = rand_indices[n_train:n]\n",
    "\n",
    "x_train = x[train_indices, :]\n",
    "x_test = x[test_indices, :]\n",
    "y_train = y[train_indices].reshape(n_train, 1)\n",
    "y_test = y[test_indices].reshape(n_test, 1)\n",
    "\n",
    "print('Shape of x_train: ' + str(x_train.shape))\n",
    "print('Shape of x_test: ' + str(x_test.shape))\n",
    "print('Shape of y_train: ' + str(y_train.shape))\n",
    "print('Shape of y_test: ' + str(y_test.shape))"
   ]
  },
  {
   "cell_type": "markdown",
   "metadata": {},
   "source": [
    "## 1.3. Feature scaling"
   ]
  },
  {
   "cell_type": "markdown",
   "metadata": {},
   "source": [
    "Use the standardization to trainsform both training and test features"
   ]
  },
  {
   "cell_type": "code",
   "execution_count": 3,
   "metadata": {},
   "outputs": [
    {
     "name": "stdout",
     "output_type": "stream",
     "text": [
      "test mean = \n",
      "[[ 0.12406939 -0.08632297 -0.05788569 -0.03207004  0.0188829  -0.18347685\n",
      "  -0.01543556  0.02748623]]\n",
      "test std = \n",
      "[[1.09037804 0.9282394  0.995285   0.87030615 0.84590127 0.95199497\n",
      "  0.93265925 1.04964714]]\n"
     ]
    }
   ],
   "source": [
    "# Standardization\n",
    "import numpy\n",
    "\n",
    "# calculate mu and sig using the training set\n",
    "d = x_train.shape[1]\n",
    "mu = numpy.mean(x_train, axis=0).reshape(1, d)\n",
    "sig = numpy.std(x_train, axis=0).reshape(1, d)\n",
    "\n",
    "# transform the training features\n",
    "x_train = (x_train - mu) / (sig + 1E-6)\n",
    "\n",
    "# transform the test features\n",
    "x_test = (x_test - mu) / (sig + 1E-6)\n",
    "\n",
    "print('test mean = ')\n",
    "print(numpy.mean(x_test, axis=0))\n",
    "\n",
    "print('test std = ')\n",
    "print(numpy.std(x_test, axis=0))"
   ]
  },
  {
   "cell_type": "markdown",
   "metadata": {},
   "source": [
    "## 1.4. Add a dimension of all ones"
   ]
  },
  {
   "cell_type": "code",
   "execution_count": 4,
   "metadata": {},
   "outputs": [
    {
     "name": "stdout",
     "output_type": "stream",
     "text": [
      "Shape of x_train: (640, 9)\n",
      "Shape of x_test: (128, 9)\n"
     ]
    }
   ],
   "source": [
    "n_train, d = x_train.shape\n",
    "x_train = numpy.concatenate((x_train, numpy.ones((n_train, 1))), axis=1)\n",
    "\n",
    "n_test, d = x_test.shape\n",
    "x_test = numpy.concatenate((x_test, numpy.ones((n_test, 1))), axis=1)\n",
    "\n",
    "print('Shape of x_train: ' + str(x_train.shape))\n",
    "print('Shape of x_test: ' + str(x_test.shape))"
   ]
  },
  {
   "cell_type": "markdown",
   "metadata": {},
   "source": [
    "# 2. Logistic regression model\n",
    "\n",
    "The objective function is $Q (w; X, y) = \\frac{1}{n} \\sum_{i=1}^n \\log \\Big( 1 + \\exp \\big( - y_i x_i^T w \\big) \\Big) + \\frac{\\lambda}{2} \\| w \\|_2^2 $."
   ]
  },
  {
   "cell_type": "code",
   "execution_count": 5,
   "metadata": {},
   "outputs": [],
   "source": [
    "# Calculate the objective function value\n",
    "# Inputs:\n",
    "#     w: d-by-1 matrix\n",
    "#     x: n-by-d matrix\n",
    "#     y: n-by-1 matrix\n",
    "#     lam: scalar, the regularization parameter\n",
    "# Return:\n",
    "#     objective function value (scalar)\n",
    "def objective(w, x, y, lam):\n",
    "    n, d = x.shape\n",
    "    yx = numpy.multiply(y, x) # n-by-d matrix\n",
    "    yxw = numpy.dot(yx, w) # n-by-1 matrix\n",
    "    vec1 = numpy.exp(-yxw) # n-by-1 matrix\n",
    "    vec2 = numpy.log(1 + vec1) # n-by-1 matrix\n",
    "    loss = numpy.mean(vec2) # scalar\n",
    "    reg = lam / 2 * numpy.sum(w * w) # scalar\n",
    "    return loss + reg\n",
    "    "
   ]
  },
  {
   "cell_type": "code",
   "execution_count": 6,
   "metadata": {},
   "outputs": [
    {
     "name": "stdout",
     "output_type": "stream",
     "text": [
      "Initial objective function value = 0.6931471805599453\n"
     ]
    }
   ],
   "source": [
    "# initialize w\n",
    "d = x_train.shape[1]\n",
    "w = numpy.zeros((d, 1))\n",
    "\n",
    "# evaluate the objective function value at w\n",
    "lam = 1E-6\n",
    "objval0 = objective(w, x_train, y_train, lam)\n",
    "print('Initial objective function value = ' + str(objval0))"
   ]
  },
  {
   "cell_type": "markdown",
   "metadata": {},
   "source": [
    "# 3. Numerical optimization"
   ]
  },
  {
   "cell_type": "markdown",
   "metadata": {},
   "source": [
    "## 3.1. Gradient descent\n"
   ]
  },
  {
   "cell_type": "markdown",
   "metadata": {},
   "source": [
    "The gradient at $w$ is $g = - \\frac{1}{n} \\sum_{i=1}^n \\frac{y_i x_i }{1 + \\exp ( y_i x_i^T w)} + \\lambda w$"
   ]
  },
  {
   "cell_type": "code",
   "execution_count": 7,
   "metadata": {},
   "outputs": [],
   "source": [
    "# Calculate the gradient\n",
    "# Inputs:\n",
    "#     w: d-by-1 matrix\n",
    "#     x: n-by-d matrix\n",
    "#     y: n-by-1 matrix\n",
    "#     lam: scalar, the regularization parameter\n",
    "# Return:\n",
    "#     g: g: d-by-1 matrix, full gradient\n",
    "def gradient(w, x, y, lam):\n",
    "    n, d = x.shape\n",
    "    yx = numpy.multiply(y, x) # n-by-d matrix\n",
    "    yxw = numpy.dot(yx, w) # n-by-1 matrix\n",
    "    vec1 = numpy.exp(yxw) # n-by-1 matrix\n",
    "    vec2 = numpy.divide(yx, 1+vec1) # n-by-d matrix\n",
    "    vec3 = -numpy.mean(vec2, axis=0).reshape(d, 1) # d-by-1 matrix\n",
    "    g = vec3 + lam * w\n",
    "    return g"
   ]
  },
  {
   "cell_type": "code",
   "execution_count": 8,
   "metadata": {},
   "outputs": [],
   "source": [
    "# Gradient descent for solving logistic regression\n",
    "# Inputs:\n",
    "#     x: n-by-d matrix\n",
    "#     y: n-by-1 matrix\n",
    "#     lam: scalar, the regularization parameter\n",
    "#     stepsize: scalar\n",
    "#     max_iter: integer, the maximal iterations\n",
    "#     w: d-by-1 matrix, initialization of w\n",
    "# Return:\n",
    "#     w: d-by-1 matrix, the solution\n",
    "#     objvals: a record of each iteration's objective value\n",
    "def grad_descent(x, y, lam, stepsize, max_iter=100, w=None):\n",
    "    n, d = x.shape\n",
    "    objvals = numpy.zeros(max_iter) # store the objective values\n",
    "    if w is None:\n",
    "        w = numpy.zeros((d, 1)) # zero initialization\n",
    "    \n",
    "    for t in range(max_iter):\n",
    "        objval = objective(w, x, y, lam)\n",
    "        objvals[t] = objval\n",
    "        print('Objective value at t=' + str(t) + ' is ' + str(objval))\n",
    "        g = gradient(w, x, y, lam)\n",
    "        w -= stepsize * g\n",
    "    \n",
    "    return w, objvals"
   ]
  },
  {
   "cell_type": "markdown",
   "metadata": {},
   "source": [
    "Run gradient descent."
   ]
  },
  {
   "cell_type": "code",
   "execution_count": 9,
   "metadata": {},
   "outputs": [
    {
     "name": "stdout",
     "output_type": "stream",
     "text": [
      "Objective value at t=0 is 0.6931471805599453\n",
      "Objective value at t=1 is 0.5924643100136534\n",
      "Objective value at t=2 is 0.5507508461880177\n",
      "Objective value at t=3 is 0.5281982301483779\n",
      "Objective value at t=4 is 0.514067187365608\n",
      "Objective value at t=5 is 0.5044583156644558\n",
      "Objective value at t=6 is 0.4975898496561103\n",
      "Objective value at t=7 is 0.4925138286347654\n",
      "Objective value at t=8 is 0.4886714770041286\n",
      "Objective value at t=9 is 0.48570931719900734\n",
      "Objective value at t=10 is 0.48339223310850704\n",
      "Objective value at t=11 is 0.48155793540279457\n",
      "Objective value at t=12 is 0.4800911664506822\n",
      "Objective value at t=13 is 0.47890818497228377\n",
      "Objective value at t=14 is 0.4779469930898865\n",
      "Objective value at t=15 is 0.47716095379884704\n",
      "Objective value at t=16 is 0.47651449977914384\n",
      "Objective value at t=17 is 0.4759801782013322\n",
      "Objective value at t=18 is 0.4755365737365576\n",
      "Objective value at t=19 is 0.4751668227980724\n",
      "Objective value at t=20 is 0.4748575340338529\n",
      "Objective value at t=21 is 0.47459799299502126\n",
      "Objective value at t=22 is 0.4743795687682426\n",
      "Objective value at t=23 is 0.47419526621100927\n",
      "Objective value at t=24 is 0.47403938453068334\n",
      "Objective value at t=25 is 0.4739072544635788\n",
      "Objective value at t=26 is 0.473795034187787\n",
      "Objective value at t=27 is 0.47369954957030863\n",
      "Objective value at t=28 is 0.4736181681934436\n",
      "Objective value at t=29 is 0.47354869934208926\n",
      "Objective value at t=30 is 0.47348931410404727\n",
      "Objective value at t=31 is 0.47343848116934134\n",
      "Objective value at t=32 is 0.4733949149684325\n",
      "Objective value at t=33 is 0.4733575335710793\n",
      "Objective value at t=34 is 0.4733254243527488\n",
      "Objective value at t=35 is 0.47329781587706604\n",
      "Objective value at t=36 is 0.473274054778626\n",
      "Objective value at t=37 is 0.4732535866877872\n",
      "Objective value at t=38 is 0.4732359404375503\n",
      "Objective value at t=39 is 0.4732207149467556\n",
      "Objective value at t=40 is 0.47320756829424804\n",
      "Objective value at t=41 is 0.4731962085932859\n",
      "Objective value at t=42 is 0.47318638635024596\n",
      "Objective value at t=43 is 0.47317788805106786\n",
      "Objective value at t=44 is 0.4731705307662868\n",
      "Objective value at t=45 is 0.473164157603513\n",
      "Objective value at t=46 is 0.4731586338668412\n",
      "Objective value at t=47 is 0.4731538438074239\n",
      "Objective value at t=48 is 0.4731496878695549\n",
      "Objective value at t=49 is 0.4731460803529877\n",
      "Objective value at t=50 is 0.4731429474256109\n",
      "Objective value at t=51 is 0.47314022543159984\n",
      "Objective value at t=52 is 0.47313785944920456\n",
      "Objective value at t=53 is 0.47313580205980965\n",
      "Objective value at t=54 is 0.47313401229608054\n",
      "Objective value at t=55 is 0.4731324547421415\n",
      "Objective value at t=56 is 0.47313109876300563\n",
      "Objective value at t=57 is 0.473129917844033\n",
      "Objective value at t=58 is 0.47312888902417366\n",
      "Objective value at t=59 is 0.47312799240924525\n",
      "Objective value at t=60 is 0.47312721075358816\n",
      "Objective value at t=61 is 0.47312652910020137\n",
      "Objective value at t=62 is 0.47312593447094714\n",
      "Objective value at t=63 is 0.4731254155996613\n",
      "Objective value at t=64 is 0.4731249627020674\n",
      "Objective value at t=65 is 0.4731245672772851\n",
      "Objective value at t=66 is 0.47312422193648773\n",
      "Objective value at t=67 is 0.4731239202549017\n",
      "Objective value at t=68 is 0.4731236566438945\n",
      "Objective value at t=69 is 0.47312342624036263\n",
      "Objective value at t=70 is 0.4731232248110268\n",
      "Objective value at t=71 is 0.47312304866958194\n",
      "Objective value at t=72 is 0.47312289460494017\n",
      "Objective value at t=73 is 0.47312275981905133\n",
      "Objective value at t=74 is 0.4731226418729963\n",
      "Objective value at t=75 is 0.4731225386402322\n",
      "Objective value at t=76 is 0.4731224482660237\n",
      "Objective value at t=77 is 0.47312236913222494\n",
      "Objective value at t=78 is 0.4731222998266954\n",
      "Objective value at t=79 is 0.47312223911672896\n",
      "Objective value at t=80 is 0.4731221859259612\n",
      "Objective value at t=81 is 0.47312213931429065\n",
      "Objective value at t=82 is 0.47312209846041564\n",
      "Objective value at t=83 is 0.47312206264663986\n",
      "Objective value at t=84 is 0.47312203124564867\n",
      "Objective value at t=85 is 0.47312200370899377\n",
      "Objective value at t=86 is 0.4731219795570658\n",
      "Objective value at t=87 is 0.47312195837035725\n",
      "Objective value at t=88 is 0.4731219397818488\n",
      "Objective value at t=89 is 0.47312192347037113\n",
      "Objective value at t=90 is 0.4731219091548171\n",
      "Objective value at t=91 is 0.47312189658909265\n",
      "Objective value at t=92 is 0.4731218855577124\n",
      "Objective value at t=93 is 0.47312187587195387\n",
      "Objective value at t=94 is 0.47312186736650186\n",
      "Objective value at t=95 is 0.47312185989651795\n",
      "Objective value at t=96 is 0.47312185333507945\n",
      "Objective value at t=97 is 0.4731218475709441\n",
      "Objective value at t=98 is 0.47312184250659467\n",
      "Objective value at t=99 is 0.4731218380565314\n"
     ]
    }
   ],
   "source": [
    "lam = 1E-6\n",
    "stepsize = 1.0\n",
    "w, objvals_gd = grad_descent(x_train, y_train, lam, stepsize)"
   ]
  },
  {
   "cell_type": "markdown",
   "metadata": {},
   "source": [
    "## 3.2. Stochastic gradient descent (SGD)\n",
    "\n",
    "Define $Q_i (w) = \\log \\Big( 1 + \\exp \\big( - y_i x_i^T w \\big) \\Big) + \\frac{\\lambda}{2} \\| w \\|_2^2 $.\n",
    "\n",
    "The stochastic gradient at $w$ is $g_i = \\frac{\\partial Q_i }{ \\partial w} = -\\frac{y_i x_i }{1 + \\exp ( y_i x_i^T w)} + \\lambda w$."
   ]
  },
  {
   "cell_type": "code",
   "execution_count": 10,
   "metadata": {},
   "outputs": [],
   "source": [
    "# Calculate the objective Q_i and the gradient of Q_i\n",
    "# Inputs:\n",
    "#     w: d-by-1 matrix\n",
    "#     xi: 1-by-d matrix\n",
    "#     yi: scalar\n",
    "#     lam: scalar, the regularization parameter\n",
    "# Return:\n",
    "#     obj: scalar, the objective Q_i\n",
    "#     g: d-by-1 matrix, gradient of Q_i\n",
    "def stochastic_objective_gradient(w, xi, yi, lam):\n",
    "    d = xi.shape[0]\n",
    "    yx = yi * xi # 1-by-d matrix\n",
    "    yxw = float(numpy.dot(yx, w)) # scalar\n",
    "    \n",
    "    # calculate objective function Q_i\n",
    "    loss = numpy.log(1 + numpy.exp(-yxw)) # scalar\n",
    "    reg = lam / 2 * numpy.sum(w * w) # scalar\n",
    "    obj = loss + reg\n",
    "    \n",
    "    # calculate stochastic gradient\n",
    "    g_loss = -yx.T / (1 + numpy.exp(yxw)) # d-by-1 matrix\n",
    "    g = g_loss + lam * w # d-by-1 matrix\n",
    "    \n",
    "    return obj, g"
   ]
  },
  {
   "cell_type": "code",
   "execution_count": 11,
   "metadata": {},
   "outputs": [],
   "source": [
    "# SGD for solving logistic regression\n",
    "# Inputs:\n",
    "#     x: n-by-d matrix\n",
    "#     y: n-by-1 matrix\n",
    "#     lam: scalar, the regularization parameter\n",
    "#     stepsize: scalar\n",
    "#     max_epoch: integer, the maximal epochs\n",
    "#     w: d-by-1 matrix, initialization of w\n",
    "# Return:\n",
    "#     w: the solution\n",
    "#     objvals: record of each iteration's objective value\n",
    "def sgd(x, y, lam, stepsize, max_epoch=100, w=None):\n",
    "    n, d = x.shape\n",
    "    objvals = numpy.zeros(max_epoch) # store the objective values\n",
    "    if w is None:\n",
    "        w = numpy.zeros((d, 1)) # zero initialization\n",
    "    \n",
    "    for t in range(max_epoch):\n",
    "        # randomly shuffle the samples\n",
    "        rand_indices = numpy.random.permutation(n)\n",
    "        x_rand = x[rand_indices, :]\n",
    "        y_rand = y[rand_indices, :]\n",
    "        \n",
    "        objval = 0 # accumulate the objective values\n",
    "        for i in range(n):\n",
    "            xi = x_rand[i, :] # 1-by-d matrix\n",
    "            yi = float(y_rand[i, :]) # scalar\n",
    "            obj, g = stochastic_objective_gradient(w, xi, yi, lam)\n",
    "            objval += obj\n",
    "            w -= stepsize * g\n",
    "        \n",
    "        stepsize *= 0.9 # decrease step size\n",
    "        objval /= n\n",
    "        objvals[t] = objval\n",
    "        print('Objective value at epoch t=' + str(t) + ' is ' + str(objval))\n",
    "    \n",
    "    return w, objvals"
   ]
  },
  {
   "cell_type": "markdown",
   "metadata": {},
   "source": [
    "Run SGD."
   ]
  },
  {
   "cell_type": "code",
   "execution_count": 12,
   "metadata": {},
   "outputs": [
    {
     "name": "stdout",
     "output_type": "stream",
     "text": [
      "Objective value at epoch t=0 is 0.53919864448897\n",
      "Objective value at epoch t=1 is 0.521839312852865\n",
      "Objective value at epoch t=2 is 0.5222274240506802\n",
      "Objective value at epoch t=3 is 0.5171298790626861\n",
      "Objective value at epoch t=4 is 0.5138102612254717\n",
      "Objective value at epoch t=5 is 0.5089057673460964\n",
      "Objective value at epoch t=6 is 0.4961702965999032\n",
      "Objective value at epoch t=7 is 0.5000632100874031\n",
      "Objective value at epoch t=8 is 0.49767372607679305\n",
      "Objective value at epoch t=9 is 0.4940198996769734\n",
      "Objective value at epoch t=10 is 0.4911834105418208\n",
      "Objective value at epoch t=11 is 0.4974159703756699\n",
      "Objective value at epoch t=12 is 0.49144491734409923\n",
      "Objective value at epoch t=13 is 0.48903648101406844\n",
      "Objective value at epoch t=14 is 0.48853779935783503\n",
      "Objective value at epoch t=15 is 0.48672046346872594\n",
      "Objective value at epoch t=16 is 0.48556159183463016\n",
      "Objective value at epoch t=17 is 0.48420609051556773\n",
      "Objective value at epoch t=18 is 0.4830028904084303\n",
      "Objective value at epoch t=19 is 0.48228510182880874\n",
      "Objective value at epoch t=20 is 0.4815090560490594\n",
      "Objective value at epoch t=21 is 0.48045398602149864\n",
      "Objective value at epoch t=22 is 0.47944463507921087\n",
      "Objective value at epoch t=23 is 0.47824227397157354\n",
      "Objective value at epoch t=24 is 0.4791343266748883\n",
      "Objective value at epoch t=25 is 0.47805755898258734\n",
      "Objective value at epoch t=26 is 0.4777467875768875\n",
      "Objective value at epoch t=27 is 0.47708485841451803\n",
      "Objective value at epoch t=28 is 0.47679427272076425\n",
      "Objective value at epoch t=29 is 0.47632942658384303\n",
      "Objective value at epoch t=30 is 0.476154342438279\n",
      "Objective value at epoch t=31 is 0.4759076298186666\n",
      "Objective value at epoch t=32 is 0.47564715158667126\n",
      "Objective value at epoch t=33 is 0.4753104369671335\n",
      "Objective value at epoch t=34 is 0.47512522235037896\n",
      "Objective value at epoch t=35 is 0.4749547476344714\n",
      "Objective value at epoch t=36 is 0.4747377973095192\n",
      "Objective value at epoch t=37 is 0.47458951634665036\n",
      "Objective value at epoch t=38 is 0.4744853522529451\n",
      "Objective value at epoch t=39 is 0.47435679172493767\n",
      "Objective value at epoch t=40 is 0.47423781737211995\n",
      "Objective value at epoch t=41 is 0.47411201773117495\n",
      "Objective value at epoch t=42 is 0.4740119457483494\n",
      "Objective value at epoch t=43 is 0.4739313706161229\n",
      "Objective value at epoch t=44 is 0.4738437836489612\n",
      "Objective value at epoch t=45 is 0.47378386168707926\n",
      "Objective value at epoch t=46 is 0.47371949528182516\n",
      "Objective value at epoch t=47 is 0.4736558637309347\n",
      "Objective value at epoch t=48 is 0.47360434771594073\n",
      "Objective value at epoch t=49 is 0.47355556601108706\n",
      "Objective value at epoch t=50 is 0.47351233237032486\n",
      "Objective value at epoch t=51 is 0.4734733353529343\n",
      "Objective value at epoch t=52 is 0.4734397825807631\n",
      "Objective value at epoch t=53 is 0.4734083804098909\n",
      "Objective value at epoch t=54 is 0.47337922766815604\n",
      "Objective value at epoch t=55 is 0.47335394727053126\n",
      "Objective value at epoch t=56 is 0.47333090187316207\n",
      "Objective value at epoch t=57 is 0.47331022778418513\n",
      "Objective value at epoch t=58 is 0.47329136816419715\n",
      "Objective value at epoch t=59 is 0.473273471441397\n",
      "Objective value at epoch t=60 is 0.4732591352327494\n",
      "Objective value at epoch t=61 is 0.47324561114580044\n",
      "Objective value at epoch t=62 is 0.47323317847847257\n",
      "Objective value at epoch t=63 is 0.47322222920508683\n",
      "Objective value at epoch t=64 is 0.47321217359087636\n",
      "Objective value at epoch t=65 is 0.4732032133402847\n",
      "Objective value at epoch t=66 is 0.4731950306316115\n",
      "Objective value at epoch t=67 is 0.47318780722635123\n",
      "Objective value at epoch t=68 is 0.47318123467497586\n",
      "Objective value at epoch t=69 is 0.47317524077706735\n",
      "Objective value at epoch t=70 is 0.47317002805265257\n",
      "Objective value at epoch t=71 is 0.47316524037968355\n",
      "Objective value at epoch t=72 is 0.47316091549861844\n",
      "Objective value at epoch t=73 is 0.4731569674880852\n",
      "Objective value at epoch t=74 is 0.47315353245392816\n",
      "Objective value at epoch t=75 is 0.47315040441587913\n",
      "Objective value at epoch t=76 is 0.47314756544673725\n",
      "Objective value at epoch t=77 is 0.4731450273795379\n",
      "Objective value at epoch t=78 is 0.473142737862681\n",
      "Objective value at epoch t=79 is 0.4731406735058495\n",
      "Objective value at epoch t=80 is 0.4731388159695545\n",
      "Objective value at epoch t=81 is 0.47313714447452276\n",
      "Objective value at epoch t=82 is 0.4731356393589995\n",
      "Objective value at epoch t=83 is 0.4731342841209251\n",
      "Objective value at epoch t=84 is 0.47313306651311554\n",
      "Objective value at epoch t=85 is 0.47313196979274263\n",
      "Objective value at epoch t=86 is 0.4731309828262892\n",
      "Objective value at epoch t=87 is 0.47313009410232876\n",
      "Objective value at epoch t=88 is 0.47312929484545985\n",
      "Objective value at epoch t=89 is 0.47312857489314714\n",
      "Objective value at epoch t=90 is 0.4731279272736869\n",
      "Objective value at epoch t=91 is 0.47312734422973096\n",
      "Objective value at epoch t=92 is 0.47312681894949227\n",
      "Objective value at epoch t=93 is 0.473126347444639\n",
      "Objective value at epoch t=94 is 0.47312592236219386\n",
      "Objective value at epoch t=95 is 0.4731255396351492\n",
      "Objective value at epoch t=96 is 0.47312519542373027\n",
      "Objective value at epoch t=97 is 0.4731248857004533\n",
      "Objective value at epoch t=98 is 0.4731246068227308\n",
      "Objective value at epoch t=99 is 0.47312435579561285\n"
     ]
    }
   ],
   "source": [
    "lam = 1E-6\n",
    "stepsize = 0.1\n",
    "w, objvals_sgd = sgd(x_train, y_train, lam, stepsize)"
   ]
  },
  {
   "cell_type": "markdown",
   "metadata": {},
   "source": [
    "# 4. Compare GD with SGD\n",
    "\n",
    "Plot objective function values against epochs."
   ]
  },
  {
   "cell_type": "code",
   "execution_count": 13,
   "metadata": {},
   "outputs": [
    {
     "data": {
      "image/png": "[encoded data removed]",
      "text/plain": [
       "<Figure size 432x288 with 1 Axes>"
      ]
     },
     "metadata": {
      "needs_background": "light"
     },
     "output_type": "display_data"
    }
   ],
   "source": [
    "import matplotlib.pyplot as plt\n",
    "%matplotlib inline\n",
    "\n",
    "fig = plt.figure(figsize=(6, 4))\n",
    "\n",
    "epochs_gd = range(len(objvals_gd))\n",
    "epochs_sgd = range(len(objvals_sgd))\n",
    "\n",
    "line0, = plt.plot(epochs_gd, objvals_gd, '--b', LineWidth=4)\n",
    "line1, = plt.plot(epochs_sgd, objvals_sgd, '-r', LineWidth=2)\n",
    "plt.xlabel('Epochs', FontSize=20)\n",
    "plt.ylabel('Objective Value', FontSize=20)\n",
    "plt.xticks(FontSize=16)\n",
    "plt.yticks(FontSize=16)\n",
    "plt.legend([line0, line1], ['GD', 'SGD'], fontsize=20)\n",
    "plt.tight_layout()\n",
    "plt.show()\n",
    "fig.savefig('compare_gd_sgd.pdf', format='pdf', dpi=1200)"
   ]
  },
  {
   "cell_type": "markdown",
   "metadata": {},
   "source": [
    "# 5. Prediction"
   ]
  },
  {
   "cell_type": "code",
   "execution_count": 14,
   "metadata": {},
   "outputs": [],
   "source": [
    "# Predict class label\n",
    "# Inputs:\n",
    "#     w: d-by-1 matrix\n",
    "#     X: m-by-d matrix\n",
    "# Return:\n",
    "#     f: m-by-1 matrix, the predictions\n",
    "def predict(w, X):\n",
    "    xw = numpy.dot(X, w)\n",
    "    f = numpy.sign(xw)\n",
    "    return f"
   ]
  },
  {
   "cell_type": "code",
   "execution_count": 15,
   "metadata": {},
   "outputs": [
    {
     "name": "stdout",
     "output_type": "stream",
     "text": [
      "Training classification error is 0.2140625\n"
     ]
    }
   ],
   "source": [
    "# evaluate training error\n",
    "f_train = predict(w, x_train)\n",
    "diff = numpy.abs(f_train - y_train) / 2\n",
    "error_train = numpy.mean(diff)\n",
    "print('Training classification error is ' + str(error_train))"
   ]
  },
  {
   "cell_type": "code",
   "execution_count": 16,
   "metadata": {},
   "outputs": [
    {
     "name": "stdout",
     "output_type": "stream",
     "text": [
      "Test classification error is 0.234375\n"
     ]
    }
   ],
   "source": [
    "# evaluate test error\n",
    "f_test = predict(w, x_test)\n",
    "diff = numpy.abs(f_test - y_test) / 2\n",
    "error_test = numpy.mean(diff)\n",
    "print('Test classification error is ' + str(error_test))"
   ]
  },
  {
   "cell_type": "markdown",
   "metadata": {},
   "source": [
    "# 6. Mini-batch SGD (fill the code)\n",
    "\n"
   ]
  },
  {
   "cell_type": "markdown",
   "metadata": {},
   "source": [
    "## 6.1. Compute the objective $Q_I$ and its gradient using a batch of samples\n",
    "\n",
    "Define $Q_I (w) = \\frac{1}{b} \\sum_{i \\in I} \\log \\Big( 1 + \\exp \\big( - y_i x_i^T w \\big) \\Big) + \\frac{\\lambda}{2} \\| w \\|_2^2 $, where $I$ is a set containing $b$ indices randomly drawn from $\\{ 1, \\cdots , n \\}$ without replacement.\n",
    "\n",
    "The stochastic gradient at $w$ is $g_I = \\frac{\\partial Q_I }{ \\partial w} = \\frac{1}{b} \\sum_{i \\in I} \\frac{- y_i x_i }{1 + \\exp ( y_i x_i^T w)} + \\lambda w$."
   ]
  },
  {
   "cell_type": "code",
   "execution_count": 17,
   "metadata": {},
   "outputs": [],
   "source": [
    "# Calculate the objective Q_I and the gradient of Q_I\n",
    "# Inputs:\n",
    "#     w: d-by-1 matrix\n",
    "#     xi: b-by-d matrix\n",
    "#     yi: b-by-1 matrix\n",
    "#     lam: scalar, the regularization parameter\n",
    "#     b: integer, the batch size\n",
    "# Return:\n",
    "#     obj: scalar, the objective Q_i\n",
    "#     g: d-by-1 matrix, gradient of Q_i\n",
    "def mb_stochastic_objective_gradient(w, xi, yi, lam, b):\n",
    "    # Fill the function\n",
    "    # Follow the implementation of stochastic_objective_gradient\n",
    "    # Use matrix-vector multiplication; do not use FOR LOOP of vector-vector multiplications\n",
    "    d = xi.shape[1]\n",
    "    yx = numpy.multiply(yi, xi) # b-by-d matrix\n",
    "    yxw = numpy.dot(yx, w) # b-by-1 matrix\n",
    "    vec1 = numpy.exp(-yxw) # b-by-1 matrix\n",
    "    vec2 = numpy.log(1 + vec1) # b-by-1 matrix\n",
    "    \n",
    "    # calculate objective function Q_i\n",
    "    loss = numpy.sum(vec2) / b # scalar\n",
    "    reg = lam / 2 * numpy.sum(w * w) # scalar\n",
    "    obj = loss + reg\n",
    "    \n",
    "    # calculate mini-batch stochastic gradient\n",
    "    vec3 = numpy.exp(yxw) # b-by-1 matrix\n",
    "    vec4 = numpy.divide(yx, 1 + vec3) # b-by-d matrix\n",
    "    g_loss = (-numpy.sum(vec4, axis=0) / b).reshape(d, 1) # d-by-1 matrix\n",
    "    g = g_loss + lam * w # d-by-1 matrix\n",
    "    \n",
    "    return obj, g"
   ]
  },
  {
   "cell_type": "markdown",
   "metadata": {},
   "source": [
    "## 6.2. Implement mini-batch SGD\n",
    "\n",
    "Hints:\n",
    "1. In every epoch, randomly permute the $n$ samples (just like SGD).\n",
    "2. Each epoch has $\\frac{n}{b}$ iterations. In every iteration, use $b$ samples, and compute the gradient and objective using the ``mb_stochastic_objective_gradient`` function. In the next iteration, use the next $b$ samples, and so on.\n"
   ]
  },
  {
   "cell_type": "code",
   "execution_count": 18,
   "metadata": {},
   "outputs": [],
   "source": [
    "# Mini-Batch SGD for solving logistic regression\n",
    "# Inputs:\n",
    "#     x: n-by-d matrix\n",
    "#     y: n-by-1 matrix\n",
    "#     lam: scalar, the regularization parameter\n",
    "#     b: integer, the batch size\n",
    "#     stepsize: scalar\n",
    "#     max_epoch: integer, the maximal epochs\n",
    "#     w: d-by-1 matrix, initialization of w\n",
    "# Return:\n",
    "#     w: the solution\n",
    "#     objvals: record of each iteration's objective value\n",
    "def mb_sgd(x, y, lam, b, stepsize, max_epoch=100, w=None):\n",
    "    # Fill the function\n",
    "    # Follow the implementation of sgd\n",
    "    # Record one objective value per epoch (not per iteration!)\n",
    "    n, d = x.shape\n",
    "    objvals = numpy.zeros(max_epoch) # store the objective values\n",
    "    if w is None:\n",
    "        w = numpy.zeros((d, 1)) # zero initialization\n",
    "    \n",
    "    for t in range(max_epoch):\n",
    "        # randomly shuffle the samples\n",
    "        rand_indices = numpy.random.permutation(n)\n",
    "        x_rand = x[rand_indices, :]\n",
    "        y_rand = y[rand_indices, :]\n",
    "        \n",
    "        objval = 0 # accumulate the objective values\n",
    "        for i in range(int(n / b)):\n",
    "            xi = x_rand[numpy.arange(i * b, (i + 1) * b), :] #b-by-d matrix\n",
    "            yi = y_rand[numpy.arange(i * b, (i + 1) * b), :] #b-by-1 matrix\n",
    "            obj, g = mb_stochastic_objective_gradient(w, xi, yi, lam, b)\n",
    "            objval += obj\n",
    "            w -= stepsize * g\n",
    "            \n",
    "        stepsize *= 0.9 # decrease step size\n",
    "        objval /= (n / b)\n",
    "        objvals[t] = objval\n",
    "        print('Objective value at epoch t=' + str(t) + ' is ' + str(objval))\n",
    "        \n",
    "    return w, objvals"
   ]
  },
  {
   "cell_type": "markdown",
   "metadata": {},
   "source": [
    "## 6.3. Run MB-SGD"
   ]
  },
  {
   "cell_type": "code",
   "execution_count": 19,
   "metadata": {},
   "outputs": [
    {
     "name": "stdout",
     "output_type": "stream",
     "text": [
      "Objective value at epoch t=0 is 0.5468168805366862\n",
      "Objective value at epoch t=1 is 0.490449780318598\n",
      "Objective value at epoch t=2 is 0.4833918142242779\n",
      "Objective value at epoch t=3 is 0.48108120657457887\n",
      "Objective value at epoch t=4 is 0.4790440083269204\n",
      "Objective value at epoch t=5 is 0.47924974676684373\n",
      "Objective value at epoch t=6 is 0.4765277890988199\n",
      "Objective value at epoch t=7 is 0.477291490369777\n",
      "Objective value at epoch t=8 is 0.4772263491456007\n",
      "Objective value at epoch t=9 is 0.4765198723387332\n",
      "Objective value at epoch t=10 is 0.47564646707914476\n",
      "Objective value at epoch t=11 is 0.4761203064806951\n",
      "Objective value at epoch t=12 is 0.4756937842158065\n",
      "Objective value at epoch t=13 is 0.4753906842263227\n",
      "Objective value at epoch t=14 is 0.47502739288399426\n",
      "Objective value at epoch t=15 is 0.47509596320834674\n",
      "Objective value at epoch t=16 is 0.4748104351054545\n",
      "Objective value at epoch t=17 is 0.4746881789660278\n",
      "Objective value at epoch t=18 is 0.47446436108554446\n",
      "Objective value at epoch t=19 is 0.4744195688997258\n",
      "Objective value at epoch t=20 is 0.4741301382001451\n",
      "Objective value at epoch t=21 is 0.4741823687786558\n",
      "Objective value at epoch t=22 is 0.4739603367905145\n",
      "Objective value at epoch t=23 is 0.473979204233742\n",
      "Objective value at epoch t=24 is 0.47392531189063414\n",
      "Objective value at epoch t=25 is 0.4737695005052144\n",
      "Objective value at epoch t=26 is 0.4737330480212658\n",
      "Objective value at epoch t=27 is 0.4736884743892177\n",
      "Objective value at epoch t=28 is 0.4735963177779879\n",
      "Objective value at epoch t=29 is 0.4735621807822792\n",
      "Objective value at epoch t=30 is 0.47353923218443655\n",
      "Objective value at epoch t=31 is 0.4734996461334503\n",
      "Objective value at epoch t=32 is 0.47345979718948267\n",
      "Objective value at epoch t=33 is 0.47341031560624164\n",
      "Objective value at epoch t=34 is 0.47336840504908917\n",
      "Objective value at epoch t=35 is 0.4733522876918081\n",
      "Objective value at epoch t=36 is 0.4733352496010526\n",
      "Objective value at epoch t=37 is 0.4733094702619659\n",
      "Objective value at epoch t=38 is 0.4732802749449073\n",
      "Objective value at epoch t=39 is 0.4732888570280022\n",
      "Objective value at epoch t=40 is 0.47326359388054035\n",
      "Objective value at epoch t=41 is 0.4732446890768644\n",
      "Objective value at epoch t=42 is 0.47323770147254496\n",
      "Objective value at epoch t=43 is 0.473228370354659\n",
      "Objective value at epoch t=44 is 0.4732218081586961\n",
      "Objective value at epoch t=45 is 0.47320540324463717\n",
      "Objective value at epoch t=46 is 0.47318983975335954\n",
      "Objective value at epoch t=47 is 0.47318853155629786\n",
      "Objective value at epoch t=48 is 0.47318141856803286\n",
      "Objective value at epoch t=49 is 0.4731763929463657\n",
      "Objective value at epoch t=50 is 0.4731678987956981\n",
      "Objective value at epoch t=51 is 0.47316785487757196\n",
      "Objective value at epoch t=52 is 0.4731594276214648\n",
      "Objective value at epoch t=53 is 0.4731570593706348\n",
      "Objective value at epoch t=54 is 0.47315356291391064\n",
      "Objective value at epoch t=55 is 0.4731502705779625\n",
      "Objective value at epoch t=56 is 0.4731486394470236\n",
      "Objective value at epoch t=57 is 0.47314366103681227\n",
      "Objective value at epoch t=58 is 0.4731412543924405\n",
      "Objective value at epoch t=59 is 0.4731429949618313\n",
      "Objective value at epoch t=60 is 0.47313903287552117\n",
      "Objective value at epoch t=61 is 0.47313726252938004\n",
      "Objective value at epoch t=62 is 0.47313546614312846\n",
      "Objective value at epoch t=63 is 0.47313471190840817\n",
      "Objective value at epoch t=64 is 0.4731339562126717\n",
      "Objective value at epoch t=65 is 0.4731320374206428\n",
      "Objective value at epoch t=66 is 0.47313170672885824\n",
      "Objective value at epoch t=67 is 0.47313042134756217\n",
      "Objective value at epoch t=68 is 0.4731293506809718\n",
      "Objective value at epoch t=69 is 0.4731285037693893\n",
      "Objective value at epoch t=70 is 0.4731277435683672\n",
      "Objective value at epoch t=71 is 0.47312784532080715\n",
      "Objective value at epoch t=72 is 0.4731266791126078\n",
      "Objective value at epoch t=73 is 0.47312633327084097\n",
      "Objective value at epoch t=74 is 0.4731262766084646\n",
      "Objective value at epoch t=75 is 0.4731257168530799\n",
      "Objective value at epoch t=76 is 0.4731254835481815\n",
      "Objective value at epoch t=77 is 0.4731251710766447\n",
      "Objective value at epoch t=78 is 0.4731246488045648\n",
      "Objective value at epoch t=79 is 0.4731244109308229\n",
      "Objective value at epoch t=80 is 0.47312415537866687\n",
      "Objective value at epoch t=81 is 0.47312409363793495\n",
      "Objective value at epoch t=82 is 0.47312399892771156\n",
      "Objective value at epoch t=83 is 0.4731237790669769\n",
      "Objective value at epoch t=84 is 0.473123580724781\n",
      "Objective value at epoch t=85 is 0.47312339926735153\n",
      "Objective value at epoch t=86 is 0.47312329183565816\n",
      "Objective value at epoch t=87 is 0.4731232180901803\n",
      "Objective value at epoch t=88 is 0.47312315505084734\n",
      "Objective value at epoch t=89 is 0.47312302374475623\n",
      "Objective value at epoch t=90 is 0.473122971465951\n",
      "Objective value at epoch t=91 is 0.4731228978026378\n",
      "Objective value at epoch t=92 is 0.4731228278863132\n",
      "Objective value at epoch t=93 is 0.473122765490053\n",
      "Objective value at epoch t=94 is 0.47312270207755436\n",
      "Objective value at epoch t=95 is 0.4731226497159503\n",
      "Objective value at epoch t=96 is 0.4731226109314502\n",
      "Objective value at epoch t=97 is 0.4731226082256802\n",
      "Objective value at epoch t=98 is 0.4731225578231092\n",
      "Objective value at epoch t=99 is 0.4731225088272198\n"
     ]
    }
   ],
   "source": [
    "# MB-SGD with batch size b=8\n",
    "lam = 1E-6 # do not change\n",
    "b = 8 # do not change\n",
    "stepsize = 0.1 # you must tune this parameter\n",
    "\n",
    "w, objvals_mbsgd8 = mb_sgd(x_train, y_train, lam, b, stepsize)"
   ]
  },
  {
   "cell_type": "code",
   "execution_count": 20,
   "metadata": {},
   "outputs": [
    {
     "name": "stdout",
     "output_type": "stream",
     "text": [
      "Objective value at epoch t=0 is 0.5756137171073629\n",
      "Objective value at epoch t=1 is 0.5006175363216498\n",
      "Objective value at epoch t=2 is 0.4865419883690191\n",
      "Objective value at epoch t=3 is 0.4818999158164442\n",
      "Objective value at epoch t=4 is 0.47980470009935433\n",
      "Objective value at epoch t=5 is 0.4791662911853821\n",
      "Objective value at epoch t=6 is 0.4768000338192569\n",
      "Objective value at epoch t=7 is 0.4760523531906801\n",
      "Objective value at epoch t=8 is 0.4756007959902311\n",
      "Objective value at epoch t=9 is 0.475564254352947\n",
      "Objective value at epoch t=10 is 0.47543866491374553\n",
      "Objective value at epoch t=11 is 0.47530083510540744\n",
      "Objective value at epoch t=12 is 0.47427749242443157\n",
      "Objective value at epoch t=13 is 0.47431206691088246\n",
      "Objective value at epoch t=14 is 0.4744205080682211\n",
      "Objective value at epoch t=15 is 0.4742598197622798\n",
      "Objective value at epoch t=16 is 0.4746765337344089\n",
      "Objective value at epoch t=17 is 0.4741496850298919\n",
      "Objective value at epoch t=18 is 0.47418471529127804\n",
      "Objective value at epoch t=19 is 0.4739598440006759\n",
      "Objective value at epoch t=20 is 0.47388085862332724\n",
      "Objective value at epoch t=21 is 0.4736637975114958\n",
      "Objective value at epoch t=22 is 0.4736321282139624\n",
      "Objective value at epoch t=23 is 0.4738052711003252\n",
      "Objective value at epoch t=24 is 0.4735615705407287\n",
      "Objective value at epoch t=25 is 0.4736475671519808\n",
      "Objective value at epoch t=26 is 0.47345197280969453\n",
      "Objective value at epoch t=27 is 0.4734970055146944\n",
      "Objective value at epoch t=28 is 0.4734160347863988\n",
      "Objective value at epoch t=29 is 0.47348816558105195\n",
      "Objective value at epoch t=30 is 0.47340534176449134\n",
      "Objective value at epoch t=31 is 0.47333569157695543\n",
      "Objective value at epoch t=32 is 0.47331501218816385\n",
      "Objective value at epoch t=33 is 0.47341127056023763\n",
      "Objective value at epoch t=34 is 0.47331705265747714\n",
      "Objective value at epoch t=35 is 0.4732772994733563\n",
      "Objective value at epoch t=36 is 0.47328354622314894\n",
      "Objective value at epoch t=37 is 0.47325436833756857\n",
      "Objective value at epoch t=38 is 0.47330717332261407\n",
      "Objective value at epoch t=39 is 0.47328156437350766\n",
      "Objective value at epoch t=40 is 0.4732332733514615\n",
      "Objective value at epoch t=41 is 0.47323661859009514\n",
      "Objective value at epoch t=42 is 0.4732361232150887\n",
      "Objective value at epoch t=43 is 0.4731977854644171\n",
      "Objective value at epoch t=44 is 0.4731892634778572\n",
      "Objective value at epoch t=45 is 0.4732110282300338\n",
      "Objective value at epoch t=46 is 0.47319896808297274\n",
      "Objective value at epoch t=47 is 0.4731814665712303\n",
      "Objective value at epoch t=48 is 0.47318785156600746\n",
      "Objective value at epoch t=49 is 0.47318083112840925\n",
      "Objective value at epoch t=50 is 0.473172827860982\n",
      "Objective value at epoch t=51 is 0.47317675981476537\n",
      "Objective value at epoch t=52 is 0.47318010939919225\n",
      "Objective value at epoch t=53 is 0.4731691069204332\n",
      "Objective value at epoch t=54 is 0.4731675373749809\n",
      "Objective value at epoch t=55 is 0.47316273503329487\n",
      "Objective value at epoch t=56 is 0.47316576169872826\n",
      "Objective value at epoch t=57 is 0.4731627358485027\n",
      "Objective value at epoch t=58 is 0.47316104687673743\n",
      "Objective value at epoch t=59 is 0.4731632704960302\n",
      "Objective value at epoch t=60 is 0.47316121206972517\n",
      "Objective value at epoch t=61 is 0.4731577578047016\n",
      "Objective value at epoch t=62 is 0.4731558054253485\n",
      "Objective value at epoch t=63 is 0.4731592068203785\n",
      "Objective value at epoch t=64 is 0.47315815143640466\n",
      "Objective value at epoch t=65 is 0.47315553783749\n",
      "Objective value at epoch t=66 is 0.47315350101895104\n",
      "Objective value at epoch t=67 is 0.47315528062677037\n",
      "Objective value at epoch t=68 is 0.47315278082706225\n",
      "Objective value at epoch t=69 is 0.47315358376259786\n",
      "Objective value at epoch t=70 is 0.4731528827244357\n",
      "Objective value at epoch t=71 is 0.47315283988057677\n",
      "Objective value at epoch t=72 is 0.47315200841348626\n",
      "Objective value at epoch t=73 is 0.4731521733942162\n",
      "Objective value at epoch t=74 is 0.473152102314199\n",
      "Objective value at epoch t=75 is 0.4731513585009927\n",
      "Objective value at epoch t=76 is 0.4731510297648642\n",
      "Objective value at epoch t=77 is 0.47315066116307725\n",
      "Objective value at epoch t=78 is 0.4731507910589358\n",
      "Objective value at epoch t=79 is 0.47315060973251766\n",
      "Objective value at epoch t=80 is 0.47315050180282603\n",
      "Objective value at epoch t=81 is 0.473150660056481\n",
      "Objective value at epoch t=82 is 0.4731500945114968\n",
      "Objective value at epoch t=83 is 0.47315009113761564\n",
      "Objective value at epoch t=84 is 0.47315000210223956\n",
      "Objective value at epoch t=85 is 0.4731499777984206\n",
      "Objective value at epoch t=86 is 0.4731499171373167\n",
      "Objective value at epoch t=87 is 0.4731500889024597\n",
      "Objective value at epoch t=88 is 0.4731498875310427\n",
      "Objective value at epoch t=89 is 0.47314990263060785\n",
      "Objective value at epoch t=90 is 0.4731497847199824\n",
      "Objective value at epoch t=91 is 0.47314976827864097\n",
      "Objective value at epoch t=92 is 0.473149660998733\n",
      "Objective value at epoch t=93 is 0.47314959669531015\n",
      "Objective value at epoch t=94 is 0.47314956972140554\n",
      "Objective value at epoch t=95 is 0.4731494824006627\n",
      "Objective value at epoch t=96 is 0.4731495061678249\n",
      "Objective value at epoch t=97 is 0.4731495173151582\n",
      "Objective value at epoch t=98 is 0.4731494886711595\n",
      "Objective value at epoch t=99 is 0.4731494648185065\n"
     ]
    }
   ],
   "source": [
    "# MB-SGD with batch size b=64\n",
    "lam = 1E-6 # do not change\n",
    "b = 64 # do not change\n",
    "stepsize = 0.5 # you must tune this parameter\n",
    "\n",
    "w, objvals_mbsgd64 = mb_sgd(x_train, y_train, lam, b, stepsize)"
   ]
  },
  {
   "cell_type": "markdown",
   "metadata": {},
   "source": [
    "# 7. Plot and compare GD, SGD, and MB-SGD"
   ]
  },
  {
   "cell_type": "markdown",
   "metadata": {},
   "source": [
    "You are required to compare the following algorithms:\n",
    "\n",
    "- Gradient descent (GD)\n",
    "\n",
    "- SGD\n",
    "\n",
    "- MB-SGD with b=8\n",
    "\n",
    "- MB-SGD with b=64\n",
    "\n",
    "Follow the code in Section 4 to plot ```objective function value``` against ```epochs```. There should be four curves in the plot; each curve corresponds to one algorithm."
   ]
  },
  {
   "cell_type": "markdown",
   "metadata": {},
   "source": [
    "Hint: Logistic regression with $\\ell_2$-norm regularization is a strongly convex optimization problem. All the algorithms will converge to the same solution. **In the end, the ``objective function value`` of the 4 algorithms will be the same. If not the same, your implementation must be wrong. Do NOT submit wrong code and wrong result!**"
   ]
  },
  {
   "cell_type": "code",
   "execution_count": 21,
   "metadata": {},
   "outputs": [
    {
     "data": {
      "image/png": "[encoded data removed]",
      "text/plain": [
       "<Figure size 432x288 with 1 Axes>"
      ]
     },
     "metadata": {
      "needs_background": "light"
     },
     "output_type": "display_data"
    }
   ],
   "source": [
    "# plot the 4 curves:\n",
    "\n",
    "fig = plt.figure(figsize=(6, 4))\n",
    "\n",
    "epochs_gd = range(len(objvals_gd))\n",
    "epochs_sgd = range(len(objvals_sgd))\n",
    "epochs_mbsgd8 = range(len(objvals_mbsgd8))\n",
    "epochs_mbsgd64 = range(len(objvals_mbsgd64))\n",
    "\n",
    "line0, = plt.plot(epochs_gd, objvals_gd, '-b', LineWidth=2)\n",
    "line1, = plt.plot(epochs_sgd, objvals_sgd, '-r', LineWidth=2)\n",
    "line2, = plt.plot(epochs_mbsgd8, objvals_mbsgd8, '-g', LineWidth=2)\n",
    "line3, = plt.plot(epochs_mbsgd64, objvals_mbsgd64, '-y', LineWidth=2)\n",
    "\n",
    "plt.xlabel('Epochs', FontSize=20)\n",
    "plt.ylabel('Objective Value', FontSize=20)\n",
    "plt.xticks(FontSize=16)\n",
    "plt.yticks(FontSize=16)\n",
    "plt.legend([line0, line1, line2, line3], ['GD', 'SGD', 'MBSGD8', 'MBSGD64'], fontsize=20)\n",
    "plt.tight_layout()\n",
    "plt.show()\n",
    "fig.savefig('compare_gd_sgd_mbsgd8_mbsgd64.pdf', format='pdf', dpi=1200)"
   ]
  },
  {
   "cell_type": "markdown",
   "metadata": {},
   "source": []
  }
 ],
 "metadata": {
  "kernelspec": {
   "display_name": "Python 3",
   "language": "python",
   "name": "python3"
  },
  "language_info": {
   "codemirror_mode": {
    "name": "ipython",
    "version": 3
   },
   "file_extension": ".py",
   "mimetype": "text/x-python",
   "name": "python",
   "nbconvert_exporter": "python",
   "pygments_lexer": "ipython3",
   "version": "3.7.6"
  }
 },
 "nbformat": 4,
 "nbformat_minor": 2
}
